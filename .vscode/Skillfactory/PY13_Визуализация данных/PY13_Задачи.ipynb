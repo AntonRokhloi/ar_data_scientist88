{
 "cells": [
  {
   "cell_type": "code",
   "execution_count": 1,
   "metadata": {},
   "outputs": [
    {
     "data": {
      "text/plain": [
       "-1.0"
      ]
     },
     "execution_count": 1,
     "metadata": {},
     "output_type": "execute_result"
    }
   ],
   "source": [
    "import numpy as np\n",
    "first_line = [x*y for x in range(2, 100, 6) for y in range (7, 1, -2)]\n",
    "second_line = [x ** 0.5 for x in range(1000, 1101, 2)]\n",
    "third_line = [x**2 for x in range(51)]\n",
    "\n",
    "big_secret = np.array([first_line, second_line, third_line, second_line, first_line])\n",
    "big_secret[::2, ::2] = 1\n",
    "big_secret[1::2, 1::2] = -1\n",
    "big_secret[1][1]"
   ]
  },
  {
   "cell_type": "code",
   "execution_count": 2,
   "metadata": {},
   "outputs": [
    {
     "data": {
      "text/plain": [
       "array([[ 1.00000000e+00,  1.00000000e+01,  1.00000000e+00,\n",
       "         5.60000000e+01,  1.00000000e+00,  2.40000000e+01,\n",
       "         1.00000000e+00,  7.00000000e+01,  1.00000000e+00,\n",
       "         1.40000000e+02,  1.00000000e+00,  6.00000000e+01,\n",
       "         1.00000000e+00,  1.30000000e+02,  1.00000000e+00,\n",
       "         2.24000000e+02,  1.00000000e+00,  9.60000000e+01,\n",
       "         1.00000000e+00,  1.90000000e+02,  1.00000000e+00,\n",
       "         3.08000000e+02,  1.00000000e+00,  1.32000000e+02,\n",
       "         1.00000000e+00,  2.50000000e+02,  1.00000000e+00,\n",
       "         3.92000000e+02,  1.00000000e+00,  1.68000000e+02,\n",
       "         1.00000000e+00,  3.10000000e+02,  1.00000000e+00,\n",
       "         4.76000000e+02,  1.00000000e+00,  2.04000000e+02,\n",
       "         1.00000000e+00,  3.70000000e+02,  1.00000000e+00,\n",
       "         5.60000000e+02,  1.00000000e+00,  2.40000000e+02,\n",
       "         1.00000000e+00,  4.30000000e+02,  1.00000000e+00,\n",
       "         6.44000000e+02,  1.00000000e+00,  2.76000000e+02,\n",
       "         1.00000000e+00,  4.90000000e+02,  1.00000000e+00],\n",
       "       [ 3.16227766e+01, -1.00000000e+00,  3.16859590e+01,\n",
       "        -1.00000000e+00,  3.17490157e+01, -1.00000000e+00,\n",
       "         3.18119474e+01, -1.00000000e+00,  3.18747549e+01,\n",
       "        -1.00000000e+00,  3.19374388e+01, -1.00000000e+00,\n",
       "         3.20000000e+01, -1.00000000e+00,  3.20624391e+01,\n",
       "        -1.00000000e+00,  3.21247568e+01, -1.00000000e+00,\n",
       "         3.21869539e+01, -1.00000000e+00,  3.22490310e+01,\n",
       "        -1.00000000e+00,  3.23109888e+01, -1.00000000e+00,\n",
       "         3.23728281e+01, -1.00000000e+00,  3.24345495e+01,\n",
       "        -1.00000000e+00,  3.24961536e+01, -1.00000000e+00,\n",
       "         3.25576412e+01, -1.00000000e+00,  3.26190129e+01,\n",
       "        -1.00000000e+00,  3.26802693e+01, -1.00000000e+00,\n",
       "         3.27414111e+01, -1.00000000e+00,  3.28024389e+01,\n",
       "        -1.00000000e+00,  3.28633535e+01, -1.00000000e+00,\n",
       "         3.29241553e+01, -1.00000000e+00,  3.29848450e+01,\n",
       "        -1.00000000e+00,  3.30454233e+01, -1.00000000e+00,\n",
       "         3.31058907e+01, -1.00000000e+00,  3.31662479e+01],\n",
       "       [ 1.00000000e+00,  1.00000000e+00,  1.00000000e+00,\n",
       "         9.00000000e+00,  1.00000000e+00,  2.50000000e+01,\n",
       "         1.00000000e+00,  4.90000000e+01,  1.00000000e+00,\n",
       "         8.10000000e+01,  1.00000000e+00,  1.21000000e+02,\n",
       "         1.00000000e+00,  1.69000000e+02,  1.00000000e+00,\n",
       "         2.25000000e+02,  1.00000000e+00,  2.89000000e+02,\n",
       "         1.00000000e+00,  3.61000000e+02,  1.00000000e+00,\n",
       "         4.41000000e+02,  1.00000000e+00,  5.29000000e+02,\n",
       "         1.00000000e+00,  6.25000000e+02,  1.00000000e+00,\n",
       "         7.29000000e+02,  1.00000000e+00,  8.41000000e+02,\n",
       "         1.00000000e+00,  9.61000000e+02,  1.00000000e+00,\n",
       "         1.08900000e+03,  1.00000000e+00,  1.22500000e+03,\n",
       "         1.00000000e+00,  1.36900000e+03,  1.00000000e+00,\n",
       "         1.52100000e+03,  1.00000000e+00,  1.68100000e+03,\n",
       "         1.00000000e+00,  1.84900000e+03,  1.00000000e+00,\n",
       "         2.02500000e+03,  1.00000000e+00,  2.20900000e+03,\n",
       "         1.00000000e+00,  2.40100000e+03,  1.00000000e+00],\n",
       "       [ 3.16227766e+01, -1.00000000e+00,  3.16859590e+01,\n",
       "        -1.00000000e+00,  3.17490157e+01, -1.00000000e+00,\n",
       "         3.18119474e+01, -1.00000000e+00,  3.18747549e+01,\n",
       "        -1.00000000e+00,  3.19374388e+01, -1.00000000e+00,\n",
       "         3.20000000e+01, -1.00000000e+00,  3.20624391e+01,\n",
       "        -1.00000000e+00,  3.21247568e+01, -1.00000000e+00,\n",
       "         3.21869539e+01, -1.00000000e+00,  3.22490310e+01,\n",
       "        -1.00000000e+00,  3.23109888e+01, -1.00000000e+00,\n",
       "         3.23728281e+01, -1.00000000e+00,  3.24345495e+01,\n",
       "        -1.00000000e+00,  3.24961536e+01, -1.00000000e+00,\n",
       "         3.25576412e+01, -1.00000000e+00,  3.26190129e+01,\n",
       "        -1.00000000e+00,  3.26802693e+01, -1.00000000e+00,\n",
       "         3.27414111e+01, -1.00000000e+00,  3.28024389e+01,\n",
       "        -1.00000000e+00,  3.28633535e+01, -1.00000000e+00,\n",
       "         3.29241553e+01, -1.00000000e+00,  3.29848450e+01,\n",
       "        -1.00000000e+00,  3.30454233e+01, -1.00000000e+00,\n",
       "         3.31058907e+01, -1.00000000e+00,  3.31662479e+01],\n",
       "       [ 1.00000000e+00,  1.00000000e+01,  1.00000000e+00,\n",
       "         5.60000000e+01,  1.00000000e+00,  2.40000000e+01,\n",
       "         1.00000000e+00,  7.00000000e+01,  1.00000000e+00,\n",
       "         1.40000000e+02,  1.00000000e+00,  6.00000000e+01,\n",
       "         1.00000000e+00,  1.30000000e+02,  1.00000000e+00,\n",
       "         2.24000000e+02,  1.00000000e+00,  9.60000000e+01,\n",
       "         1.00000000e+00,  1.90000000e+02,  1.00000000e+00,\n",
       "         3.08000000e+02,  1.00000000e+00,  1.32000000e+02,\n",
       "         1.00000000e+00,  2.50000000e+02,  1.00000000e+00,\n",
       "         3.92000000e+02,  1.00000000e+00,  1.68000000e+02,\n",
       "         1.00000000e+00,  3.10000000e+02,  1.00000000e+00,\n",
       "         4.76000000e+02,  1.00000000e+00,  2.04000000e+02,\n",
       "         1.00000000e+00,  3.70000000e+02,  1.00000000e+00,\n",
       "         5.60000000e+02,  1.00000000e+00,  2.40000000e+02,\n",
       "         1.00000000e+00,  4.30000000e+02,  1.00000000e+00,\n",
       "         6.44000000e+02,  1.00000000e+00,  2.76000000e+02,\n",
       "         1.00000000e+00,  4.90000000e+02,  1.00000000e+00]])"
      ]
     },
     "metadata": {},
     "output_type": "display_data"
    }
   ],
   "source": [
    "display(big_secret)"
   ]
  },
  {
   "cell_type": "markdown",
   "metadata": {},
   "source": [
    "# Matplotlibe"
   ]
  },
  {
   "cell_type": "code",
   "execution_count": 3,
   "metadata": {},
   "outputs": [
    {
     "data": {
      "text/html": [
       "<div>\n",
       "<style scoped>\n",
       "    .dataframe tbody tr th:only-of-type {\n",
       "        vertical-align: middle;\n",
       "    }\n",
       "\n",
       "    .dataframe tbody tr th {\n",
       "        vertical-align: top;\n",
       "    }\n",
       "\n",
       "    .dataframe thead th {\n",
       "        text-align: right;\n",
       "    }\n",
       "</style>\n",
       "<table border=\"1\" class=\"dataframe\">\n",
       "  <thead>\n",
       "    <tr style=\"text-align: right;\">\n",
       "      <th></th>\n",
       "      <th>Unnamed: 0</th>\n",
       "      <th>date</th>\n",
       "      <th>country</th>\n",
       "      <th>confirmed</th>\n",
       "      <th>deaths</th>\n",
       "      <th>recovered</th>\n",
       "      <th>active</th>\n",
       "      <th>daily_confirmed</th>\n",
       "      <th>daily_deaths</th>\n",
       "      <th>daily_recovered</th>\n",
       "      <th>total_vaccinations</th>\n",
       "      <th>people_vaccinated</th>\n",
       "      <th>people_vaccinated_per_hundred</th>\n",
       "      <th>people_fully_vaccinated</th>\n",
       "      <th>people_fully_vaccinated_per_hundred</th>\n",
       "      <th>daily_vaccinations</th>\n",
       "      <th>vaccines</th>\n",
       "      <th>death_rate</th>\n",
       "      <th>recover_rate</th>\n",
       "    </tr>\n",
       "  </thead>\n",
       "  <tbody>\n",
       "    <tr>\n",
       "      <th>0</th>\n",
       "      <td>0</td>\n",
       "      <td>2020-02-24</td>\n",
       "      <td>Afghanistan</td>\n",
       "      <td>1.0</td>\n",
       "      <td>0.0</td>\n",
       "      <td>0.0</td>\n",
       "      <td>1.0</td>\n",
       "      <td>NaN</td>\n",
       "      <td>NaN</td>\n",
       "      <td>NaN</td>\n",
       "      <td>NaN</td>\n",
       "      <td>NaN</td>\n",
       "      <td>NaN</td>\n",
       "      <td>NaN</td>\n",
       "      <td>NaN</td>\n",
       "      <td>NaN</td>\n",
       "      <td>NaN</td>\n",
       "      <td>0.0</td>\n",
       "      <td>0.0</td>\n",
       "    </tr>\n",
       "    <tr>\n",
       "      <th>1</th>\n",
       "      <td>1</td>\n",
       "      <td>2020-02-25</td>\n",
       "      <td>Afghanistan</td>\n",
       "      <td>1.0</td>\n",
       "      <td>0.0</td>\n",
       "      <td>0.0</td>\n",
       "      <td>1.0</td>\n",
       "      <td>0.0</td>\n",
       "      <td>0.0</td>\n",
       "      <td>0.0</td>\n",
       "      <td>NaN</td>\n",
       "      <td>NaN</td>\n",
       "      <td>NaN</td>\n",
       "      <td>NaN</td>\n",
       "      <td>NaN</td>\n",
       "      <td>NaN</td>\n",
       "      <td>NaN</td>\n",
       "      <td>0.0</td>\n",
       "      <td>0.0</td>\n",
       "    </tr>\n",
       "    <tr>\n",
       "      <th>2</th>\n",
       "      <td>2</td>\n",
       "      <td>2020-02-26</td>\n",
       "      <td>Afghanistan</td>\n",
       "      <td>1.0</td>\n",
       "      <td>0.0</td>\n",
       "      <td>0.0</td>\n",
       "      <td>1.0</td>\n",
       "      <td>0.0</td>\n",
       "      <td>0.0</td>\n",
       "      <td>0.0</td>\n",
       "      <td>NaN</td>\n",
       "      <td>NaN</td>\n",
       "      <td>NaN</td>\n",
       "      <td>NaN</td>\n",
       "      <td>NaN</td>\n",
       "      <td>NaN</td>\n",
       "      <td>NaN</td>\n",
       "      <td>0.0</td>\n",
       "      <td>0.0</td>\n",
       "    </tr>\n",
       "    <tr>\n",
       "      <th>3</th>\n",
       "      <td>3</td>\n",
       "      <td>2020-02-27</td>\n",
       "      <td>Afghanistan</td>\n",
       "      <td>1.0</td>\n",
       "      <td>0.0</td>\n",
       "      <td>0.0</td>\n",
       "      <td>1.0</td>\n",
       "      <td>0.0</td>\n",
       "      <td>0.0</td>\n",
       "      <td>0.0</td>\n",
       "      <td>NaN</td>\n",
       "      <td>NaN</td>\n",
       "      <td>NaN</td>\n",
       "      <td>NaN</td>\n",
       "      <td>NaN</td>\n",
       "      <td>NaN</td>\n",
       "      <td>NaN</td>\n",
       "      <td>0.0</td>\n",
       "      <td>0.0</td>\n",
       "    </tr>\n",
       "    <tr>\n",
       "      <th>4</th>\n",
       "      <td>4</td>\n",
       "      <td>2020-02-28</td>\n",
       "      <td>Afghanistan</td>\n",
       "      <td>1.0</td>\n",
       "      <td>0.0</td>\n",
       "      <td>0.0</td>\n",
       "      <td>1.0</td>\n",
       "      <td>0.0</td>\n",
       "      <td>0.0</td>\n",
       "      <td>0.0</td>\n",
       "      <td>NaN</td>\n",
       "      <td>NaN</td>\n",
       "      <td>NaN</td>\n",
       "      <td>NaN</td>\n",
       "      <td>NaN</td>\n",
       "      <td>NaN</td>\n",
       "      <td>NaN</td>\n",
       "      <td>0.0</td>\n",
       "      <td>0.0</td>\n",
       "    </tr>\n",
       "  </tbody>\n",
       "</table>\n",
       "</div>"
      ],
      "text/plain": [
       "   Unnamed: 0       date      country  confirmed  deaths  recovered  active  \\\n",
       "0           0 2020-02-24  Afghanistan        1.0     0.0        0.0     1.0   \n",
       "1           1 2020-02-25  Afghanistan        1.0     0.0        0.0     1.0   \n",
       "2           2 2020-02-26  Afghanistan        1.0     0.0        0.0     1.0   \n",
       "3           3 2020-02-27  Afghanistan        1.0     0.0        0.0     1.0   \n",
       "4           4 2020-02-28  Afghanistan        1.0     0.0        0.0     1.0   \n",
       "\n",
       "   daily_confirmed  daily_deaths  daily_recovered  total_vaccinations  \\\n",
       "0              NaN           NaN              NaN                 NaN   \n",
       "1              0.0           0.0              0.0                 NaN   \n",
       "2              0.0           0.0              0.0                 NaN   \n",
       "3              0.0           0.0              0.0                 NaN   \n",
       "4              0.0           0.0              0.0                 NaN   \n",
       "\n",
       "   people_vaccinated  people_vaccinated_per_hundred  people_fully_vaccinated  \\\n",
       "0                NaN                            NaN                      NaN   \n",
       "1                NaN                            NaN                      NaN   \n",
       "2                NaN                            NaN                      NaN   \n",
       "3                NaN                            NaN                      NaN   \n",
       "4                NaN                            NaN                      NaN   \n",
       "\n",
       "   people_fully_vaccinated_per_hundred  daily_vaccinations vaccines  \\\n",
       "0                                  NaN                 NaN      NaN   \n",
       "1                                  NaN                 NaN      NaN   \n",
       "2                                  NaN                 NaN      NaN   \n",
       "3                                  NaN                 NaN      NaN   \n",
       "4                                  NaN                 NaN      NaN   \n",
       "\n",
       "   death_rate  recover_rate  \n",
       "0         0.0           0.0  \n",
       "1         0.0           0.0  \n",
       "2         0.0           0.0  \n",
       "3         0.0           0.0  \n",
       "4         0.0           0.0  "
      ]
     },
     "execution_count": 3,
     "metadata": {},
     "output_type": "execute_result"
    }
   ],
   "source": [
    "import pandas as pd\n",
    "#используем объединенный датасет о заболеваемости и вакцинации\n",
    "covid_df = pd.read_csv('data/covid_df.csv') \n",
    "covid_df['date'] = pd.to_datetime(covid_df['date'])\n",
    "covid_df.head()"
   ]
  },
  {
   "cell_type": "code",
   "execution_count": 4,
   "metadata": {},
   "outputs": [],
   "source": [
    "import matplotlib.pyplot as plt\n",
    "%matplotlib inline\n",
    "plt.style.use('default')"
   ]
  },
  {
   "cell_type": "markdown",
   "metadata": {},
   "source": [
    "Обратите внимание, что диаграмма показывает соотношение только для десяти популярных комбинаций вакцин, а не для всех вакцин в совокупности, что является не совсем корректным для круговой диаграммы, так как она должна отображать единое целое.\n",
    "\n",
    "К тому же наша круговая диаграмма считает количество использований каждой комбинации в таблице, а не количество стран, в которых используется эта комбинация, что также является некорректным.\n",
    "\n",
    "→ Более правильным вариантом в данном случае было бы выделить каждую вакцину в отдельности и посчитать, в скольких странах она используется.\n",
    "\n",
    "Однако для этого нам необходимо будет совершить несколько довольно сложных преобразований:\n",
    "\n"
   ]
  },
  {
   "cell_type": "markdown",
   "metadata": {},
   "source": [
    "* 1. Для начала нам необходимо избавиться от пропусков в столбце с вакцинами. Сделаем это с помощью метода dropna(), который удаляет строки, содержащие пропуски в столбце, указанном в параметре subset(). Данный метод мы будем изучать в следующем модуле, посвящённом очистке данных — пока что не вам не стоит заострять на нём внимание:"
   ]
  },
  {
   "cell_type": "code",
   "execution_count": 8,
   "metadata": {},
   "outputs": [],
   "source": [
    "combination_not_nan = covid_df.dropna(subset=['vaccines'])"
   ]
  },
  {
   "cell_type": "markdown",
   "metadata": {},
   "source": [
    "* 2. Полученные данные необходимо сгруппировать по странам (country) и определить последнюю зафиксированную комбинации вакцин в столбце vaccines:"
   ]
  },
  {
   "cell_type": "code",
   "execution_count": 10,
   "metadata": {},
   "outputs": [
    {
     "data": {
      "text/plain": [
       "country\n",
       "Afghanistan    Johnson&Johnson, Oxford/AstraZeneca, Pfizer/Bi...\n",
       "Albania        Oxford/AstraZeneca, Pfizer/BioNTech, Sinovac, ...\n",
       "Algeria         Oxford/AstraZeneca, Sinopharm/Beijing, Sputnik V\n",
       "Andorra                      Oxford/AstraZeneca, Pfizer/BioNTech\n",
       "Angola                                        Oxford/AstraZeneca\n",
       "Name: vaccines, dtype: object"
      ]
     },
     "execution_count": 10,
     "metadata": {},
     "output_type": "execute_result"
    }
   ],
   "source": [
    "combination_last = combination_not_nan.groupby(['country'])['vaccines'].last()\n",
    "combination_last.head()"
   ]
  },
  {
   "cell_type": "markdown",
   "metadata": {},
   "source": [
    "В результате такого преобразования мы получаем Series, значениями которого являются комбинации вакцин, которые использовались в странах в последний день рассматриваемого периода."
   ]
  },
  {
   "cell_type": "code",
   "execution_count": 11,
   "metadata": {},
   "outputs": [
    {
     "data": {
      "text/plain": [
       "country\n",
       "Afghanistan    Johnson&Johnson, Oxford/AstraZeneca, Pfizer/Bi...\n",
       "Albania        Oxford/AstraZeneca, Pfizer/BioNTech, Sinovac, ...\n",
       "Algeria         Oxford/AstraZeneca, Sinopharm/Beijing, Sputnik V\n",
       "Andorra                      Oxford/AstraZeneca, Pfizer/BioNTech\n",
       "Angola                                        Oxford/AstraZeneca\n",
       "                                     ...                        \n",
       "Venezuela          Sinopharm/Beijing, Sinopharm/Wuhan, Sputnik V\n",
       "Vietnam        Moderna, Oxford/AstraZeneca, Pfizer/BioNTech, ...\n",
       "Yemen                                         Oxford/AstraZeneca\n",
       "Zambia                     Oxford/AstraZeneca, Sinopharm/Beijing\n",
       "Zimbabwe       Oxford/AstraZeneca, Sinopharm/Beijing, Sinovac...\n",
       "Name: vaccines, Length: 174, dtype: object"
      ]
     },
     "metadata": {},
     "output_type": "display_data"
    }
   ],
   "source": [
    "display(combination_last)"
   ]
  },
  {
   "cell_type": "markdown",
   "metadata": {},
   "source": [
    "* 3. Преобразуем данные с помощью метода apply(): применим к столбцу lambda-функцию, в которой будем удалять из строки с комбинациями вакцин пробелы и разделять комбинацию на отдельные составляющие по запятым."
   ]
  },
  {
   "cell_type": "code",
   "execution_count": 12,
   "metadata": {},
   "outputs": [],
   "source": [
    "combination_last = combination_last.apply(lambda x: x.replace(' ', '').split(','))"
   ]
  },
  {
   "cell_type": "code",
   "execution_count": 13,
   "metadata": {},
   "outputs": [
    {
     "data": {
      "text/plain": [
       "country\n",
       "Afghanistan    [Johnson&Johnson, Oxford/AstraZeneca, Pfizer/B...\n",
       "Albania        [Oxford/AstraZeneca, Pfizer/BioNTech, Sinovac,...\n",
       "Algeria        [Oxford/AstraZeneca, Sinopharm/Beijing, SputnikV]\n",
       "Andorra                    [Oxford/AstraZeneca, Pfizer/BioNTech]\n",
       "Angola                                      [Oxford/AstraZeneca]\n",
       "                                     ...                        \n",
       "Venezuela         [Sinopharm/Beijing, Sinopharm/Wuhan, SputnikV]\n",
       "Vietnam        [Moderna, Oxford/AstraZeneca, Pfizer/BioNTech,...\n",
       "Yemen                                       [Oxford/AstraZeneca]\n",
       "Zambia                   [Oxford/AstraZeneca, Sinopharm/Beijing]\n",
       "Zimbabwe       [Oxford/AstraZeneca, Sinopharm/Beijing, Sinova...\n",
       "Name: vaccines, Length: 174, dtype: object"
      ]
     },
     "metadata": {},
     "output_type": "display_data"
    }
   ],
   "source": [
    "display(combination_last)"
   ]
  },
  {
   "cell_type": "markdown",
   "metadata": {},
   "source": [
    "* 4. Создадим словарь vaccines_dict={}, ключами которого будут являться уникальные вакцины, а значениями — количество стран, в которых они используются. Изначально словарь пустой."
   ]
  },
  {
   "cell_type": "markdown",
   "metadata": {},
   "source": [
    "* 5. Заполнение словаря реализуем «в лоб» — используя циклы. Во внешнем цикле будем проходиться по всем элементам Series combination_last. На каждой итерации цикла в переменной цикла vaccines_list будет находиться список вакцин, которые используются в стране.\n",
    "\n",
    "Во внутреннем цикле будем проходиться по элементам этого списка, вакцинам. Переменную внутреннего цикла назовём vaccine.\n",
    "\n",
    "В теле внутреннего цикла проверяем условие, что текущей вакцины ещё нет среди ключей словаря vaccones_dict. Если это условие выполняется, добавляем вакцину в словарь со значением 1. В противном случае увеличиваем текущее количество стран, в которых используется данная вакцина:"
   ]
  },
  {
   "cell_type": "code",
   "execution_count": 14,
   "metadata": {},
   "outputs": [],
   "source": [
    "vaccines_dict = {} \n",
    "#создаём цикл по элементам Series combination_last\n",
    "for vaccines_list in combination_last:\n",
    "    #создаём цикл по элементам списка с вакцинами\n",
    "    for vaccine in vaccines_list:\n",
    "        #проверяем условие, что текущей вакцины ещё нет среди ключей словаря\n",
    "        if vaccine not in vaccines_dict:#если условие выполняется\n",
    "            vaccines_dict[vaccine] = 1 #заносим вакцину в словарь со значением 1\n",
    "        else: #в противном случае\n",
    "            vaccines_dict[vaccine] += 1 #увеличивает количество"
   ]
  },
  {
   "cell_type": "markdown",
   "metadata": {},
   "source": [
    "* 6. В результате работы получаем словарь, который преобразуем в объект Series. Далее выделим семь наиболее популярных вакцин, а остальные обозначим как 'other'. Для этого сортируем Series по убыванию. Вычислим суммарное количество стран, в которых используются вакцины, не попавшие в наш ТОП-7, результат запишем в Series по индексу 'other'.\n",
    "\n",
    "Далее выделим восемь наибольших значений в полученной Series — для них и будем строить круговую диаграмму."
   ]
  },
  {
   "cell_type": "code",
   "execution_count": 15,
   "metadata": {},
   "outputs": [
    {
     "data": {
      "text/plain": [
       "{'Johnson&Johnson': 45,\n",
       " 'Oxford/AstraZeneca': 149,\n",
       " 'Pfizer/BioNTech': 102,\n",
       " 'Sinopharm/Beijing': 66,\n",
       " 'Sinovac': 39,\n",
       " 'SputnikV': 48,\n",
       " 'Moderna': 58,\n",
       " 'Covaxin': 7,\n",
       " 'CanSino': 5,\n",
       " 'Sinopharm/Wuhan': 3,\n",
       " 'ZF2001': 2,\n",
       " 'Abdala': 1,\n",
       " 'Soberana02': 1,\n",
       " 'COVIranBarekat': 1,\n",
       " 'QazVac': 1,\n",
       " 'Sinopharm/HayatVax': 1,\n",
       " 'EpiVacCorona': 1,\n",
       " 'Medigen': 1}"
      ]
     },
     "metadata": {},
     "output_type": "display_data"
    }
   ],
   "source": [
    "display(vaccines_dict)"
   ]
  },
  {
   "cell_type": "code",
   "execution_count": 17,
   "metadata": {},
   "outputs": [],
   "source": [
    "vaccines = pd.Series(vaccines_dict).sort_values(ascending=False)\n",
    "vaccines['other'] = vaccines[7:].sum()\n",
    "vaccines = vaccines.sort_values(ascending=False)[:8]"
   ]
  },
  {
   "cell_type": "markdown",
   "metadata": {},
   "source": [
    "* 7. Строим круговую диаграмму:"
   ]
  },
  {
   "cell_type": "code",
   "execution_count": 18,
   "metadata": {},
   "outputs": [
    {
     "data": {
      "image/png": "[encoded data removed]",
      "text/plain": [
       "<Figure size 500x500 with 1 Axes>"
      ]
     },
     "metadata": {},
     "output_type": "display_data"
    }
   ],
   "source": [
    "fig = plt.figure(figsize=(5, 5))\n",
    "axes = fig.add_axes([0, 0, 1, 1])\n",
    "axes.pie(\n",
    "    vaccines,\n",
    "    labels=vaccines.index,\n",
    "    autopct='%.1f%%',\n",
    ");"
   ]
  },
  {
   "cell_type": "code",
   "execution_count": null,
   "metadata": {},
   "outputs": [],
   "source": []
  }
 ],
 "metadata": {
  "interpreter": {
   "hash": "6f96b49906360ce2f453f94e1f6b951e3c056ba9887f2bb79913fa4e8c8275fd"
  },
  "kernelspec": {
   "display_name": "Python 3.9.10 64-bit",
   "language": "python",
   "name": "python3"
  },
  "language_info": {
   "codemirror_mode": {
    "name": "ipython",
    "version": 3
   },
   "file_extension": ".py",
   "mimetype": "text/x-python",
   "name": "python",
   "nbconvert_exporter": "python",
   "pygments_lexer": "ipython3",
   "version": "3.9.10"
  },
  "orig_nbformat": 4
 },
 "nbformat": 4,
 "nbformat_minor": 2
}
