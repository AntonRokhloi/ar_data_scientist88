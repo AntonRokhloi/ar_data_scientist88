{
 "cells": [
  {
   "cell_type": "markdown",
   "metadata": {},
   "source": [
    "4. Hello, World!"
   ]
  },
  {
   "cell_type": "code",
   "execution_count": 10,
   "metadata": {},
   "outputs": [
    {
     "name": "stdout",
     "output_type": "stream",
     "text": [
      "Hello, world!\n"
     ]
    }
   ],
   "source": [
    "print('Hello, world!')"
   ]
  },
  {
   "cell_type": "code",
   "execution_count": 11,
   "metadata": {},
   "outputs": [
    {
     "name": "stdout",
     "output_type": "stream",
     "text": [
      "Hello, world\n",
      "Hello world\n",
      "Helloworld\n"
     ]
    }
   ],
   "source": [
    "print('Hello, world')\n",
    "print('Hello','world')\n",
    "print('Hello'+'world')"
   ]
  },
  {
   "cell_type": "markdown",
   "metadata": {},
   "source": [
    "* Переменная — это именованная область памяти компьютера, адрес которой позволяет получить доступ к данным (это общее определение из программирования, конкретная трактовка которого может меняться от языка к языку).\n",
    "\n",
    "* В самом простом понимании память —  это упорядоченная последовательность ячеек (байт), в которых располагаются данные. Каждая ячейка имеет свой порядковый номер — адрес.\n",
    "\n"
   ]
  },
  {
   "cell_type": "code",
   "execution_count": 12,
   "metadata": {},
   "outputs": [
    {
     "name": "stdout",
     "output_type": "stream",
     "text": [
      "JohnLennon\n"
     ]
    }
   ],
   "source": [
    "name, surname = \"John\", \"Lennon\"\n",
    "print(name + surname)"
   ]
  },
  {
   "cell_type": "markdown",
   "metadata": {},
   "source": []
  },
  {
   "cell_type": "code",
   "execution_count": 13,
   "metadata": {},
   "outputs": [
    {
     "name": "stdout",
     "output_type": "stream",
     "text": [
      "John\n"
     ]
    }
   ],
   "source": [
    "name, surname = \"John\", \"Lennon\"\n",
    "print(name)"
   ]
  },
  {
   "cell_type": "markdown",
   "metadata": {},
   "source": [
    "множественное присваивание\n",
    "\n",
    "a, b = b, a"
   ]
  },
  {
   "cell_type": "markdown",
   "metadata": {},
   "source": [
    "* функция — фрагмент кода, к которому можно обратиться из любого другого места.\n",
    "\n",
    "* Алгоритм — набор последовательных действий, направленных на достижение поставленной цели или решения конкретной задачи.\n",
    "\n"
   ]
  },
  {
   "cell_type": "markdown",
   "metadata": {},
   "source": [
    "# ФУНКЦИИ INPUT() И PRINT()"
   ]
  },
  {
   "cell_type": "markdown",
   "metadata": {},
   "source": [
    "1.\n",
    "\n",
    "name = input(\"Please enter your first name:\")\n",
    "print(\"Hello,\", name)"
   ]
  },
  {
   "cell_type": "markdown",
   "metadata": {},
   "source": [
    "2.\n",
    "\n",
    "print(\"Answer to the Ultimate Question of Life, the Universe, and Everything —\", 42)\n",
    "# Ответ на главный вопрос жизни, вселенной и всего такого — 42"
   ]
  },
  {
   "cell_type": "markdown",
   "metadata": {},
   "source": [
    "3.\n",
    "\n",
    "first_name = input(\"Enter your firstname:\")\n",
    "last_name = input(\"Enter your lastname:\")\n",
    "age = input(\"Enter your age:\")\n",
    "city = input(\"Enter your city of residence:\")\n",
    "# Выводим пустую строку\n",
    "print(\"\")\n",
    "# Выводим приветствие, подставляя имя и фамилию пользователя,\n",
    "# которые он ввёл с клавиатуры\n",
    "print(\"Hello,\", first_name, last_name, \"!\")\n",
    "# Выводим пустую строку\n",
    "print(\"\")\n",
    "# Выводим фиксированный текст для удобства просмотра\n",
    "print(\"Your profile:\")\n",
    "# Выводим возраст и город, которые указал пользователь\n",
    "print(\"Age:\", age)\n",
    "print(\"City:\", city)"
   ]
  },
  {
   "cell_type": "markdown",
   "metadata": {},
   "source": []
  },
  {
   "cell_type": "markdown",
   "metadata": {},
   "source": [
    "# Типы данных бывают:\n",
    "\n",
    "- встроенными (built-in) — такие типы не надо отдельно устанавливать, они уже идут в комплекте с интерпретатором Python;\n",
    "- загружаемыми из библиотек;\n",
    "- создаваемыми самостоятельно."
   ]
  },
  {
   "cell_type": "markdown",
   "metadata": {},
   "source": [
    "Несмотря на то что работа с ними всё же заметно разная, есть возможность представить список в виде множества, а, например, кортеж — в виде списка. Возможных комбинаций «перевода» одних типов в другие много, а сам этот процесс называется преобразованием, или приведением, типов."
   ]
  },
  {
   "cell_type": "markdown",
   "metadata": {},
   "source": [
    "функция type()"
   ]
  },
  {
   "cell_type": "markdown",
   "metadata": {},
   "source": [
    "- Динамическая типизация означает, что тип переменной определяется во время выполнения программы, а не во время компиляции. \n",
    "\n",
    "\n",
    "- Сильная типизация говорит нам о том, что мы не можем совершать операции над объектами разного типа без приведения их к одному типу.\n",
    "\n",
    "- Неявная типизация говорит о том, что тип переменной при её объявлении не нужно указывать."
   ]
  },
  {
   "cell_type": "code",
   "execution_count": null,
   "metadata": {},
   "outputs": [],
   "source": []
  }
 ],
 "metadata": {
  "interpreter": {
   "hash": "6f96b49906360ce2f453f94e1f6b951e3c056ba9887f2bb79913fa4e8c8275fd"
  },
  "kernelspec": {
   "display_name": "Python 3.9.10 64-bit",
   "language": "python",
   "name": "python3"
  },
  "language_info": {
   "codemirror_mode": {
    "name": "ipython",
    "version": 3
   },
   "file_extension": ".py",
   "mimetype": "text/x-python",
   "name": "python",
   "nbconvert_exporter": "python",
   "pygments_lexer": "ipython3",
   "version": "3.9.10"
  },
  "orig_nbformat": 4
 },
 "nbformat": 4,
 "nbformat_minor": 2
}
